{
 "cells": [
  {
   "cell_type": "code",
   "execution_count": null,
   "id": "db5680bd-c4c8-4037-bb9b-c6632a70676a",
   "metadata": {
    "tags": []
   },
   "outputs": [],
   "source": [
    "# Example JupyterLab Notebook (`.ipynb` JSON File) for Learning about pandas.DataFrame Instances\n",
    "#\n",
    "# Copyright (c) Tommy P. Keane, 2023\n",
    "# https://www.tommypkeane.com\n",
    "# https://github.com/tommypkeane/learning-python-pandas\n",
    "import csv\n",
    "import logging\n",
    "\n",
    "import pandas\n",
    "\n",
    "import pandas_demos\n",
    "\n",
    "print(f\"Path to pandas_demos Package: {pandas_demos.__path__[0]}\")\n",
    "# print(f\"pandas_demos Package Version: {pandas_demos.__version__}\")"
   ]
  },
  {
   "cell_type": "code",
   "execution_count": null,
   "id": "d1b9fb49-9c51-421a-830e-53bc4102f850",
   "metadata": {
    "tags": []
   },
   "outputs": [],
   "source": [
    "from pandas_demos.data.hecate import hecate_info\n",
    "from pandas_demos.dataframes.from_dict import dataframe_from_dict\n",
    "\n",
    "hecate_df = dataframe_from_dict(hecate_info)\n",
    "\n",
    "hecate_df"
   ]
  },
  {
   "cell_type": "code",
   "execution_count": null,
   "id": "ed3d8fdb-7ae8-4fbd-bd24-3814bdaa9bc3",
   "metadata": {
    "tags": []
   },
   "outputs": [],
   "source": [
    "from pandas_demos.data.hecate import (\n",
    "    hecate_a,\n",
    "    hecate_b,\n",
    "    hecate_c,\n",
    ")\n",
    "from pandas_demos.dataframes.from_dict import dataframe_from_extension_of_dicts\n",
    "\n",
    "hecate_multi_df = dataframe_from_extension_of_dicts(\n",
    "    hecate_a,\n",
    "    hecate_b,\n",
    "    hecate_c,\n",
    ")\n",
    "\n",
    "hecate_multi_df"
   ]
  },
  {
   "cell_type": "code",
   "execution_count": null,
   "id": "ea9974f1-4002-4951-abd8-b2dd88595619",
   "metadata": {
    "tags": []
   },
   "outputs": [],
   "source": [
    "from pandas_demos.data.hecate import (\n",
    "    hecate_a,\n",
    "    hecate_b,\n",
    "    hecate_c,\n",
    ")\n",
    "from pandas_demos.dataframes.from_dict import dataframe_from_extension_of_dicts\n",
    "from pandas_demos.dataframes.groupby import (\n",
    "    groupby_dataframe_from_columnname,\n",
    "    groupby_to_dataframe,\n",
    ")\n",
    "\n",
    "\n",
    "hecate_multi_df = dataframe_from_extension_of_dicts(\n",
    "    hecate_a,\n",
    "    hecate_b,\n",
    "    hecate_c,\n",
    ")\n",
    "\n",
    "hecate_multi_df.head(100)"
   ]
  },
  {
   "cell_type": "code",
   "execution_count": null,
   "id": "06c8ea6a-1662-4b4b-ac91-193987367a32",
   "metadata": {
    "tags": []
   },
   "outputs": [],
   "source": [
    "hecate_multi_gb = groupby_dataframe_from_columnname(\n",
    "    data_df=hecate_multi_df,\n",
    "    column=\"name\"\n",
    ")\n",
    "\n",
    "hecate_multi_gb_df = groupby_to_dataframe(hecate_multi_gb)\n",
    "\n",
    "hecate_multi_gb_df.head(100)"
   ]
  }
 ],
 "metadata": {
  "kernelspec": {
   "display_name": "Python 3 (ipykernel)",
   "language": "python",
   "name": "python3"
  },
  "language_info": {
   "codemirror_mode": {
    "name": "ipython",
    "version": 3
   },
   "file_extension": ".py",
   "mimetype": "text/x-python",
   "name": "python",
   "nbconvert_exporter": "python",
   "pygments_lexer": "ipython3",
   "version": "3.10.7"
  }
 },
 "nbformat": 4,
 "nbformat_minor": 5
}
